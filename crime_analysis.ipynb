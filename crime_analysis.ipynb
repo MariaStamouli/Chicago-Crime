{
 "cells": [
  {
   "cell_type": "code",
   "execution_count": 1,
   "metadata": {},
   "outputs": [],
   "source": [
    "import pandas as pd\n",
    "import matplotlib.pyplot as plt\n",
    "import seaborn as sns\n",
    "from datetime import datetime\n",
    "import folium\n",
    "import sys\n",
    "from paretochart import pareto"
   ]
  },
  {
   "cell_type": "code",
   "execution_count": 2,
   "metadata": {},
   "outputs": [],
   "source": [
    "crime_data = pd.read_csv(r'Chicago_all.csv')"
   ]
  },
  {
   "cell_type": "markdown",
   "metadata": {},
   "source": [
    "## This dataset reflects reported incidents of crime (with the exception of murders where data exists for each victim) that occurred in the City of Chicago from 2001 to present, minus the most recent seven days. Data is extracted from the Chicago Police Department's CLEAR (Citizen Law Enforcement Analysis and Reporting) system\n",
    "Link: https://data.cityofchicago.org/Public-Safety/Crimes-2001-to-present/ijzp-q8t2/data "
   ]
  },
  {
   "cell_type": "markdown",
   "metadata": {},
   "source": [
    "## Our aim is to perfom EDA to the Dataset. We examine the last 3 years."
   ]
  },
  {
   "cell_type": "code",
   "execution_count": 3,
   "metadata": {},
   "outputs": [],
   "source": [
    "order_crimes = crime_data['Primary Type'].value_counts()"
   ]
  },
  {
   "cell_type": "code",
   "execution_count": 4,
   "metadata": {},
   "outputs": [],
   "source": [
    "order_crimes = order_crimes.to_frame().rename(columns = {'Primary Type':'Total'}).drop(['HUMAN TRAFFICKING','PUBLIC INDECENCY', \n",
    "                                                                         'OTHER NARCOTIC VIOLATION',\n",
    "                                                                         'NON-CRIMINAL (SUBJECT SPECIFIED)',\n",
    "                                                                         'NON - CRIMINAL', 'NON-CRIMINAL'], axis='index')"
   ]
  },
  {
   "cell_type": "code",
   "execution_count": 5,
   "metadata": {},
   "outputs": [
    {
     "data": {
      "text/plain": [
       "array(['THEFT', 'BATTERY', 'CRIMINAL DAMAGE', 'ASSAULT',\n",
       "       'DECEPTIVE PRACTICE', 'OTHER OFFENSE', 'BURGLARY', 'NARCOTICS',\n",
       "       'ROBBERY', 'MOTOR VEHICLE THEFT', 'CRIMINAL TRESPASS',\n",
       "       'WEAPONS VIOLATION', 'OFFENSE INVOLVING CHILDREN',\n",
       "       'CRIM SEXUAL ASSAULT', 'PUBLIC PEACE VIOLATION',\n",
       "       'INTERFERENCE WITH PUBLIC OFFICER', 'SEX OFFENSE', 'PROSTITUTION',\n",
       "       'HOMICIDE', 'ARSON', 'LIQUOR LAW VIOLATION', 'GAMBLING',\n",
       "       'KIDNAPPING', 'STALKING', 'INTIMIDATION',\n",
       "       'CONCEALED CARRY LICENSE VIOLATION', 'OBSCENITY'], dtype=object)"
      ]
     },
     "execution_count": 5,
     "metadata": {},
     "output_type": "execute_result"
    }
   ],
   "source": [
    "order_crimes.index.values"
   ]
  },
  {
   "cell_type": "code",
   "execution_count": 6,
   "metadata": {},
   "outputs": [],
   "source": [
    "order_crimes.reset_index(inplace=True)"
   ]
  },
  {
   "cell_type": "code",
   "execution_count": 7,
   "metadata": {},
   "outputs": [],
   "source": [
    "order_crimes = order_crimes.rename(columns={'index':'Primary Type'})"
   ]
  },
  {
   "cell_type": "code",
   "execution_count": 8,
   "metadata": {},
   "outputs": [],
   "source": [
    "order_crimes['Primary Type'] = pd.Categorical(order_crimes['Primary Type'],ordered = True, categories = ['THEFT', 'BATTERY',\n",
    "        'CRIMINAL DAMAGE', 'ASSAULT',\n",
    "       'DECEPTIVE PRACTICE', 'OTHER OFFENSE', 'BURGLARY', 'NARCOTICS',\n",
    "       'ROBBERY', 'MOTOR VEHICLE THEFT', 'CRIMINAL TRESPASS',\n",
    "       'WEAPONS VIOLATION', 'OFFENSE INVOLVING CHILDREN',\n",
    "       'CRIM SEXUAL ASSAULT', 'PUBLIC PEACE VIOLATION',\n",
    "       'INTERFERENCE WITH PUBLIC OFFICER', 'SEX OFFENSE', 'PROSTITUTION',\n",
    "       'HOMICIDE', 'ARSON', 'LIQUOR LAW VIOLATION', 'GAMBLING',\n",
    "       'KIDNAPPING', 'STALKING', 'INTIMIDATION',\n",
    "       'CONCEALED CARRY LICENSE VIOLATION', 'OBSCENITY'])"
   ]
  },
  {
   "cell_type": "code",
   "execution_count": 9,
   "metadata": {},
   "outputs": [],
   "source": [
    "crime_data['Date'] = pd.to_datetime(crime_data['Date'], format=\"%m/%d/%Y %I:%M:%S %p\")"
   ]
  },
  {
   "cell_type": "code",
   "execution_count": 10,
   "metadata": {},
   "outputs": [
    {
     "data": {
      "text/html": [
       "<div>\n",
       "<style scoped>\n",
       "    .dataframe tbody tr th:only-of-type {\n",
       "        vertical-align: middle;\n",
       "    }\n",
       "\n",
       "    .dataframe tbody tr th {\n",
       "        vertical-align: top;\n",
       "    }\n",
       "\n",
       "    .dataframe thead th {\n",
       "        text-align: right;\n",
       "    }\n",
       "</style>\n",
       "<table border=\"1\" class=\"dataframe\">\n",
       "  <thead>\n",
       "    <tr style=\"text-align: right;\">\n",
       "      <th></th>\n",
       "      <th>ID</th>\n",
       "      <th>Case Number</th>\n",
       "      <th>Date</th>\n",
       "      <th>Block</th>\n",
       "      <th>IUCR</th>\n",
       "      <th>Primary Type</th>\n",
       "      <th>Description</th>\n",
       "      <th>Location Description</th>\n",
       "      <th>Arrest</th>\n",
       "      <th>Domestic</th>\n",
       "      <th>...</th>\n",
       "      <th>Ward</th>\n",
       "      <th>Community Area</th>\n",
       "      <th>FBI Code</th>\n",
       "      <th>X Coordinate</th>\n",
       "      <th>Y Coordinate</th>\n",
       "      <th>Year</th>\n",
       "      <th>Updated On</th>\n",
       "      <th>Latitude</th>\n",
       "      <th>Longitude</th>\n",
       "      <th>Location</th>\n",
       "    </tr>\n",
       "  </thead>\n",
       "  <tbody>\n",
       "    <tr>\n",
       "      <th>0</th>\n",
       "      <td>10606686</td>\n",
       "      <td>HZ358366</td>\n",
       "      <td>2016-06-20 09:00:00</td>\n",
       "      <td>047XX S INDIANA AVE</td>\n",
       "      <td>1562</td>\n",
       "      <td>SEX OFFENSE</td>\n",
       "      <td>AGG CRIMINAL SEXUAL ABUSE</td>\n",
       "      <td>RESIDENCE</td>\n",
       "      <td>True</td>\n",
       "      <td>False</td>\n",
       "      <td>...</td>\n",
       "      <td>3.0</td>\n",
       "      <td>38.0</td>\n",
       "      <td>17</td>\n",
       "      <td>1178398.0</td>\n",
       "      <td>1873627.0</td>\n",
       "      <td>2016</td>\n",
       "      <td>03/01/2018 03:52:35 PM</td>\n",
       "      <td>41.808541</td>\n",
       "      <td>-87.621195</td>\n",
       "      <td>(41.808540691, -87.621194998)</td>\n",
       "    </tr>\n",
       "    <tr>\n",
       "      <th>1</th>\n",
       "      <td>10750326</td>\n",
       "      <td>HZ512286</td>\n",
       "      <td>2016-11-12 07:30:00</td>\n",
       "      <td>038XX W 61ST ST</td>\n",
       "      <td>031A</td>\n",
       "      <td>ROBBERY</td>\n",
       "      <td>ARMED: HANDGUN</td>\n",
       "      <td>SIDEWALK</td>\n",
       "      <td>True</td>\n",
       "      <td>False</td>\n",
       "      <td>...</td>\n",
       "      <td>13.0</td>\n",
       "      <td>65.0</td>\n",
       "      <td>03</td>\n",
       "      <td>1151816.0</td>\n",
       "      <td>1863880.0</td>\n",
       "      <td>2016</td>\n",
       "      <td>03/01/2018 03:52:35 PM</td>\n",
       "      <td>41.782357</td>\n",
       "      <td>-87.718948</td>\n",
       "      <td>(41.782356535, -87.718947917)</td>\n",
       "    </tr>\n",
       "    <tr>\n",
       "      <th>2</th>\n",
       "      <td>11094370</td>\n",
       "      <td>JA440032</td>\n",
       "      <td>2017-09-21 00:15:00</td>\n",
       "      <td>072XX N CALIFORNIA AVE</td>\n",
       "      <td>1122</td>\n",
       "      <td>DECEPTIVE PRACTICE</td>\n",
       "      <td>COUNTERFEIT CHECK</td>\n",
       "      <td>CURRENCY EXCHANGE</td>\n",
       "      <td>True</td>\n",
       "      <td>False</td>\n",
       "      <td>...</td>\n",
       "      <td>50.0</td>\n",
       "      <td>2.0</td>\n",
       "      <td>10</td>\n",
       "      <td>1156443.0</td>\n",
       "      <td>1947707.0</td>\n",
       "      <td>2017</td>\n",
       "      <td>03/01/2018 03:52:35 PM</td>\n",
       "      <td>42.012293</td>\n",
       "      <td>-87.699714</td>\n",
       "      <td>(42.012293397, -87.699714109)</td>\n",
       "    </tr>\n",
       "    <tr>\n",
       "      <th>3</th>\n",
       "      <td>11118031</td>\n",
       "      <td>JA470589</td>\n",
       "      <td>2017-10-12 19:14:00</td>\n",
       "      <td>055XX W GRAND AVE</td>\n",
       "      <td>1345</td>\n",
       "      <td>CRIMINAL DAMAGE</td>\n",
       "      <td>TO CITY OF CHICAGO PROPERTY</td>\n",
       "      <td>JAIL / LOCK-UP FACILITY</td>\n",
       "      <td>True</td>\n",
       "      <td>False</td>\n",
       "      <td>...</td>\n",
       "      <td>29.0</td>\n",
       "      <td>19.0</td>\n",
       "      <td>14</td>\n",
       "      <td>1138788.0</td>\n",
       "      <td>1913480.0</td>\n",
       "      <td>2017</td>\n",
       "      <td>03/01/2018 03:52:35 PM</td>\n",
       "      <td>41.918712</td>\n",
       "      <td>-87.765511</td>\n",
       "      <td>(41.918711651, -87.76551063)</td>\n",
       "    </tr>\n",
       "    <tr>\n",
       "      <th>4</th>\n",
       "      <td>11134189</td>\n",
       "      <td>JA491697</td>\n",
       "      <td>2017-10-30 11:52:00</td>\n",
       "      <td>043XX S TALMAN AVE</td>\n",
       "      <td>4651</td>\n",
       "      <td>OTHER OFFENSE</td>\n",
       "      <td>SEX OFFENDER: FAIL REG NEW ADD</td>\n",
       "      <td>APARTMENT</td>\n",
       "      <td>True</td>\n",
       "      <td>False</td>\n",
       "      <td>...</td>\n",
       "      <td>12.0</td>\n",
       "      <td>58.0</td>\n",
       "      <td>26</td>\n",
       "      <td>1159425.0</td>\n",
       "      <td>1875711.0</td>\n",
       "      <td>2017</td>\n",
       "      <td>03/01/2018 03:52:35 PM</td>\n",
       "      <td>41.814670</td>\n",
       "      <td>-87.690727</td>\n",
       "      <td>(41.814669784, -87.690726696)</td>\n",
       "    </tr>\n",
       "  </tbody>\n",
       "</table>\n",
       "<p>5 rows × 22 columns</p>\n",
       "</div>"
      ],
      "text/plain": [
       "         ID Case Number                Date                   Block  IUCR  \\\n",
       "0  10606686    HZ358366 2016-06-20 09:00:00     047XX S INDIANA AVE  1562   \n",
       "1  10750326    HZ512286 2016-11-12 07:30:00         038XX W 61ST ST  031A   \n",
       "2  11094370    JA440032 2017-09-21 00:15:00  072XX N CALIFORNIA AVE  1122   \n",
       "3  11118031    JA470589 2017-10-12 19:14:00       055XX W GRAND AVE  1345   \n",
       "4  11134189    JA491697 2017-10-30 11:52:00      043XX S TALMAN AVE  4651   \n",
       "\n",
       "         Primary Type                     Description  \\\n",
       "0         SEX OFFENSE       AGG CRIMINAL SEXUAL ABUSE   \n",
       "1             ROBBERY                  ARMED: HANDGUN   \n",
       "2  DECEPTIVE PRACTICE               COUNTERFEIT CHECK   \n",
       "3     CRIMINAL DAMAGE     TO CITY OF CHICAGO PROPERTY   \n",
       "4       OTHER OFFENSE  SEX OFFENDER: FAIL REG NEW ADD   \n",
       "\n",
       "      Location Description  Arrest  Domestic              ...                \\\n",
       "0                RESIDENCE    True     False              ...                 \n",
       "1                 SIDEWALK    True     False              ...                 \n",
       "2        CURRENCY EXCHANGE    True     False              ...                 \n",
       "3  JAIL / LOCK-UP FACILITY    True     False              ...                 \n",
       "4                APARTMENT    True     False              ...                 \n",
       "\n",
       "   Ward  Community Area  FBI Code  X Coordinate Y Coordinate  Year  \\\n",
       "0   3.0            38.0        17     1178398.0    1873627.0  2016   \n",
       "1  13.0            65.0        03     1151816.0    1863880.0  2016   \n",
       "2  50.0             2.0        10     1156443.0    1947707.0  2017   \n",
       "3  29.0            19.0        14     1138788.0    1913480.0  2017   \n",
       "4  12.0            58.0        26     1159425.0    1875711.0  2017   \n",
       "\n",
       "               Updated On   Latitude  Longitude                       Location  \n",
       "0  03/01/2018 03:52:35 PM  41.808541 -87.621195  (41.808540691, -87.621194998)  \n",
       "1  03/01/2018 03:52:35 PM  41.782357 -87.718948  (41.782356535, -87.718947917)  \n",
       "2  03/01/2018 03:52:35 PM  42.012293 -87.699714  (42.012293397, -87.699714109)  \n",
       "3  03/01/2018 03:52:35 PM  41.918712 -87.765511   (41.918711651, -87.76551063)  \n",
       "4  03/01/2018 03:52:35 PM  41.814670 -87.690727  (41.814669784, -87.690726696)  \n",
       "\n",
       "[5 rows x 22 columns]"
      ]
     },
     "execution_count": 10,
     "metadata": {},
     "output_type": "execute_result"
    }
   ],
   "source": [
    "crime_data.head()"
   ]
  },
  {
   "cell_type": "code",
   "execution_count": 11,
   "metadata": {},
   "outputs": [],
   "source": [
    "# Count frequencies of crime types\n",
    "ptype = crime_data['Primary Type'].value_counts()\n",
    "ptype2 = ptype[:12,]"
   ]
  },
  {
   "cell_type": "markdown",
   "metadata": {},
   "source": [
    "#### From the below barplot we consider that THEFT is the most popular crime in Chicago, followed by BATTERY for the last 3 years overall"
   ]
  },
  {
   "cell_type": "code",
   "execution_count": 12,
   "metadata": {},
   "outputs": [
    {
     "data": {
      "text/plain": [
       "Text(0.5,0,'Number of Crimes')"
      ]
     },
     "execution_count": 12,
     "metadata": {},
     "output_type": "execute_result"
    },
    {
     "data": {
      "image/png": "[encoded data removed]",
      "text/plain": [
       "<Figure size 576x576 with 1 Axes>"
      ]
     },
     "metadata": {
      "needs_background": "light"
     },
     "output_type": "display_data"
    }
   ],
   "source": [
    "plt.figure(figsize=(8,8))\n",
    "sns.barplot(x = ptype2.values, y= ptype2.index, orient = 'h', palette = 'Blues_r')\n",
    "plt.title('Number of top 12 Crimes in Chicago between the period 2016-2018', fontsize = 16)\n",
    "plt.ylabel('Type of Crimes', fontsize=12, style='italic')\n",
    "plt.xlabel('Number of Crimes', fontsize=12, style='italic')\n",
    "#plt.show()\n"
   ]
  },
  {
   "cell_type": "code",
   "execution_count": 13,
   "metadata": {},
   "outputs": [],
   "source": [
    "new_date = [d.date() for d in crime_data['Date']]\n",
    "new_hour = [d.time() for d in crime_data['Date']]"
   ]
  },
  {
   "cell_type": "code",
   "execution_count": 14,
   "metadata": {},
   "outputs": [],
   "source": [
    "crime_data = crime_data.drop('Date', axis=1)\n",
    "crime_data.insert(loc = 2, column = 'Date', value=new_date)\n",
    "crime_data.insert(loc = 3, column = 'Hour', value=new_hour)\n"
   ]
  },
  {
   "cell_type": "markdown",
   "metadata": {},
   "source": [
    "# QUESTION 1: TREND ANALYSIS"
   ]
  },
  {
   "cell_type": "markdown",
   "metadata": {},
   "source": [
    "## Part I :Trend Analysis for intra year frequency of crimes "
   ]
  },
  {
   "cell_type": "markdown",
   "metadata": {},
   "source": [
    "### a. Cumulative data for 3 years (2016-2017-2018)"
   ]
  },
  {
   "cell_type": "markdown",
   "metadata": {},
   "source": [
    "#### Conduct analysis for 3 years. Find the total number of crimes per month."
   ]
  },
  {
   "cell_type": "code",
   "execution_count": 15,
   "metadata": {},
   "outputs": [
    {
     "data": {
      "text/html": [
       "<div>\n",
       "<style scoped>\n",
       "    .dataframe tbody tr th:only-of-type {\n",
       "        vertical-align: middle;\n",
       "    }\n",
       "\n",
       "    .dataframe tbody tr th {\n",
       "        vertical-align: top;\n",
       "    }\n",
       "\n",
       "    .dataframe thead th {\n",
       "        text-align: right;\n",
       "    }\n",
       "</style>\n",
       "<table border=\"1\" class=\"dataframe\">\n",
       "  <thead>\n",
       "    <tr style=\"text-align: right;\">\n",
       "      <th></th>\n",
       "      <th>ID</th>\n",
       "      <th>Case Number</th>\n",
       "      <th>Date</th>\n",
       "      <th>Hour</th>\n",
       "      <th>Block</th>\n",
       "      <th>IUCR</th>\n",
       "      <th>Primary Type</th>\n",
       "      <th>Description</th>\n",
       "      <th>Location Description</th>\n",
       "      <th>Arrest</th>\n",
       "      <th>...</th>\n",
       "      <th>Ward</th>\n",
       "      <th>Community Area</th>\n",
       "      <th>FBI Code</th>\n",
       "      <th>X Coordinate</th>\n",
       "      <th>Y Coordinate</th>\n",
       "      <th>Year</th>\n",
       "      <th>Updated On</th>\n",
       "      <th>Latitude</th>\n",
       "      <th>Longitude</th>\n",
       "      <th>Location</th>\n",
       "    </tr>\n",
       "  </thead>\n",
       "  <tbody>\n",
       "    <tr>\n",
       "      <th>0</th>\n",
       "      <td>10606686</td>\n",
       "      <td>HZ358366</td>\n",
       "      <td>2016-06-20</td>\n",
       "      <td>09:00:00</td>\n",
       "      <td>047XX S INDIANA AVE</td>\n",
       "      <td>1562</td>\n",
       "      <td>SEX OFFENSE</td>\n",
       "      <td>AGG CRIMINAL SEXUAL ABUSE</td>\n",
       "      <td>RESIDENCE</td>\n",
       "      <td>True</td>\n",
       "      <td>...</td>\n",
       "      <td>3.0</td>\n",
       "      <td>38.0</td>\n",
       "      <td>17</td>\n",
       "      <td>1178398.0</td>\n",
       "      <td>1873627.0</td>\n",
       "      <td>2016</td>\n",
       "      <td>03/01/2018 03:52:35 PM</td>\n",
       "      <td>41.808541</td>\n",
       "      <td>-87.621195</td>\n",
       "      <td>(41.808540691, -87.621194998)</td>\n",
       "    </tr>\n",
       "    <tr>\n",
       "      <th>1</th>\n",
       "      <td>10750326</td>\n",
       "      <td>HZ512286</td>\n",
       "      <td>2016-11-12</td>\n",
       "      <td>07:30:00</td>\n",
       "      <td>038XX W 61ST ST</td>\n",
       "      <td>031A</td>\n",
       "      <td>ROBBERY</td>\n",
       "      <td>ARMED: HANDGUN</td>\n",
       "      <td>SIDEWALK</td>\n",
       "      <td>True</td>\n",
       "      <td>...</td>\n",
       "      <td>13.0</td>\n",
       "      <td>65.0</td>\n",
       "      <td>03</td>\n",
       "      <td>1151816.0</td>\n",
       "      <td>1863880.0</td>\n",
       "      <td>2016</td>\n",
       "      <td>03/01/2018 03:52:35 PM</td>\n",
       "      <td>41.782357</td>\n",
       "      <td>-87.718948</td>\n",
       "      <td>(41.782356535, -87.718947917)</td>\n",
       "    </tr>\n",
       "    <tr>\n",
       "      <th>2</th>\n",
       "      <td>11094370</td>\n",
       "      <td>JA440032</td>\n",
       "      <td>2017-09-21</td>\n",
       "      <td>00:15:00</td>\n",
       "      <td>072XX N CALIFORNIA AVE</td>\n",
       "      <td>1122</td>\n",
       "      <td>DECEPTIVE PRACTICE</td>\n",
       "      <td>COUNTERFEIT CHECK</td>\n",
       "      <td>CURRENCY EXCHANGE</td>\n",
       "      <td>True</td>\n",
       "      <td>...</td>\n",
       "      <td>50.0</td>\n",
       "      <td>2.0</td>\n",
       "      <td>10</td>\n",
       "      <td>1156443.0</td>\n",
       "      <td>1947707.0</td>\n",
       "      <td>2017</td>\n",
       "      <td>03/01/2018 03:52:35 PM</td>\n",
       "      <td>42.012293</td>\n",
       "      <td>-87.699714</td>\n",
       "      <td>(42.012293397, -87.699714109)</td>\n",
       "    </tr>\n",
       "    <tr>\n",
       "      <th>3</th>\n",
       "      <td>11118031</td>\n",
       "      <td>JA470589</td>\n",
       "      <td>2017-10-12</td>\n",
       "      <td>19:14:00</td>\n",
       "      <td>055XX W GRAND AVE</td>\n",
       "      <td>1345</td>\n",
       "      <td>CRIMINAL DAMAGE</td>\n",
       "      <td>TO CITY OF CHICAGO PROPERTY</td>\n",
       "      <td>JAIL / LOCK-UP FACILITY</td>\n",
       "      <td>True</td>\n",
       "      <td>...</td>\n",
       "      <td>29.0</td>\n",
       "      <td>19.0</td>\n",
       "      <td>14</td>\n",
       "      <td>1138788.0</td>\n",
       "      <td>1913480.0</td>\n",
       "      <td>2017</td>\n",
       "      <td>03/01/2018 03:52:35 PM</td>\n",
       "      <td>41.918712</td>\n",
       "      <td>-87.765511</td>\n",
       "      <td>(41.918711651, -87.76551063)</td>\n",
       "    </tr>\n",
       "    <tr>\n",
       "      <th>4</th>\n",
       "      <td>11134189</td>\n",
       "      <td>JA491697</td>\n",
       "      <td>2017-10-30</td>\n",
       "      <td>11:52:00</td>\n",
       "      <td>043XX S TALMAN AVE</td>\n",
       "      <td>4651</td>\n",
       "      <td>OTHER OFFENSE</td>\n",
       "      <td>SEX OFFENDER: FAIL REG NEW ADD</td>\n",
       "      <td>APARTMENT</td>\n",
       "      <td>True</td>\n",
       "      <td>...</td>\n",
       "      <td>12.0</td>\n",
       "      <td>58.0</td>\n",
       "      <td>26</td>\n",
       "      <td>1159425.0</td>\n",
       "      <td>1875711.0</td>\n",
       "      <td>2017</td>\n",
       "      <td>03/01/2018 03:52:35 PM</td>\n",
       "      <td>41.814670</td>\n",
       "      <td>-87.690727</td>\n",
       "      <td>(41.814669784, -87.690726696)</td>\n",
       "    </tr>\n",
       "  </tbody>\n",
       "</table>\n",
       "<p>5 rows × 23 columns</p>\n",
       "</div>"
      ],
      "text/plain": [
       "         ID Case Number        Date      Hour                   Block  IUCR  \\\n",
       "0  10606686    HZ358366  2016-06-20  09:00:00     047XX S INDIANA AVE  1562   \n",
       "1  10750326    HZ512286  2016-11-12  07:30:00         038XX W 61ST ST  031A   \n",
       "2  11094370    JA440032  2017-09-21  00:15:00  072XX N CALIFORNIA AVE  1122   \n",
       "3  11118031    JA470589  2017-10-12  19:14:00       055XX W GRAND AVE  1345   \n",
       "4  11134189    JA491697  2017-10-30  11:52:00      043XX S TALMAN AVE  4651   \n",
       "\n",
       "         Primary Type                     Description  \\\n",
       "0         SEX OFFENSE       AGG CRIMINAL SEXUAL ABUSE   \n",
       "1             ROBBERY                  ARMED: HANDGUN   \n",
       "2  DECEPTIVE PRACTICE               COUNTERFEIT CHECK   \n",
       "3     CRIMINAL DAMAGE     TO CITY OF CHICAGO PROPERTY   \n",
       "4       OTHER OFFENSE  SEX OFFENDER: FAIL REG NEW ADD   \n",
       "\n",
       "      Location Description  Arrest              ...                Ward  \\\n",
       "0                RESIDENCE    True              ...                 3.0   \n",
       "1                 SIDEWALK    True              ...                13.0   \n",
       "2        CURRENCY EXCHANGE    True              ...                50.0   \n",
       "3  JAIL / LOCK-UP FACILITY    True              ...                29.0   \n",
       "4                APARTMENT    True              ...                12.0   \n",
       "\n",
       "   Community Area  FBI Code  X Coordinate  Y Coordinate  Year  \\\n",
       "0            38.0        17     1178398.0     1873627.0  2016   \n",
       "1            65.0        03     1151816.0     1863880.0  2016   \n",
       "2             2.0        10     1156443.0     1947707.0  2017   \n",
       "3            19.0        14     1138788.0     1913480.0  2017   \n",
       "4            58.0        26     1159425.0     1875711.0  2017   \n",
       "\n",
       "               Updated On   Latitude  Longitude                       Location  \n",
       "0  03/01/2018 03:52:35 PM  41.808541 -87.621195  (41.808540691, -87.621194998)  \n",
       "1  03/01/2018 03:52:35 PM  41.782357 -87.718948  (41.782356535, -87.718947917)  \n",
       "2  03/01/2018 03:52:35 PM  42.012293 -87.699714  (42.012293397, -87.699714109)  \n",
       "3  03/01/2018 03:52:35 PM  41.918712 -87.765511   (41.918711651, -87.76551063)  \n",
       "4  03/01/2018 03:52:35 PM  41.814670 -87.690727  (41.814669784, -87.690726696)  \n",
       "\n",
       "[5 rows x 23 columns]"
      ]
     },
     "execution_count": 15,
     "metadata": {},
     "output_type": "execute_result"
    }
   ],
   "source": [
    "crime_data.head()"
   ]
  },
  {
   "cell_type": "code",
   "execution_count": 16,
   "metadata": {},
   "outputs": [],
   "source": [
    "crime_data['Date'] = pd.to_datetime(crime_data['Date'], format = '%Y-%m-%d')\n",
    "crime_data['Hour'] = pd.to_datetime(crime_data['Hour'], format = '%H:%M:%S')"
   ]
  },
  {
   "cell_type": "code",
   "execution_count": 17,
   "metadata": {},
   "outputs": [],
   "source": [
    "# Find the total crime per month (ignore the year)-use strftime to extract the name of the month\n",
    "month_crimes = crime_data.groupby(crime_data['Date'].dt.strftime('%B'))['Primary Type'].count().sort_values()"
   ]
  },
  {
   "cell_type": "markdown",
   "metadata": {},
   "source": [
    "#### From the below barplot we conclude that July and August are the months with the highest criminality, followed by June and May"
   ]
  },
  {
   "cell_type": "code",
   "execution_count": 18,
   "metadata": {},
   "outputs": [
    {
     "data": {
      "text/plain": [
       "Text(0.5,0,'Number of Crimes')"
      ]
     },
     "execution_count": 18,
     "metadata": {},
     "output_type": "execute_result"
    },
    {
     "data": {
      "image/png": "[encoded data removed]",
      "text/plain": [
       "<Figure size 576x576 with 1 Axes>"
      ]
     },
     "metadata": {
      "needs_background": "light"
     },
     "output_type": "display_data"
    }
   ],
   "source": [
    "plt.figure(figsize=(8,8))\n",
    "plt.style.use('seaborn-notebook')\n",
    "sns.barplot(x = month_crimes.values, y= month_crimes.index, orient = 'h',palette = 'Blues')\n",
    "plt.title('Number of Crimes in Chicago per month', fontsize = 16)\n",
    "plt.ylabel('Month', fontsize=12, style='italic')\n",
    "plt.xlabel('Number of Crimes', fontsize=12, style='italic')\n",
    "#plt.show()"
   ]
  },
  {
   "cell_type": "markdown",
   "metadata": {},
   "source": [
    "# b. Compare different years 2016, 2017, 2018"
   ]
  },
  {
   "cell_type": "markdown",
   "metadata": {},
   "source": [
    "### We are going to split the dataset into 3 years and after that we will split every year to a different season (winter,spring,summer,autumn)"
   ]
  },
  {
   "cell_type": "code",
   "execution_count": 19,
   "metadata": {},
   "outputs": [],
   "source": [
    "# Filter Dataframe with dates and types of crimes\n",
    "crime_freq = crime_data[['Date', 'Primary Type']]"
   ]
  },
  {
   "cell_type": "code",
   "execution_count": 20,
   "metadata": {},
   "outputs": [],
   "source": [
    "# Extract the year with strftime and the year as primary index\n",
    "crime_freq = crime_freq.set_index(crime_freq['Date'].dt.strftime('%Y'))"
   ]
  },
  {
   "cell_type": "code",
   "execution_count": 21,
   "metadata": {},
   "outputs": [],
   "source": [
    "# Extract month from date\n",
    "months = crime_freq['Date'].dt.strftime('%B').values"
   ]
  },
  {
   "cell_type": "code",
   "execution_count": 22,
   "metadata": {},
   "outputs": [],
   "source": [
    "# Insert month as new column\n",
    "crime_freq.insert(loc = 1, column = 'Month', value= months)"
   ]
  },
  {
   "cell_type": "code",
   "execution_count": 23,
   "metadata": {},
   "outputs": [],
   "source": [
    "# Drop column of whole date\n",
    "crime_freq = crime_freq.drop('Date',axis=1)\n",
    "crime_freq.index = crime_freq.index.rename('Year')"
   ]
  },
  {
   "cell_type": "code",
   "execution_count": 24,
   "metadata": {},
   "outputs": [],
   "source": [
    "#Set month as primary index\n",
    "crime_freq = crime_freq.reset_index().set_index('Month')"
   ]
  },
  {
   "cell_type": "code",
   "execution_count": 25,
   "metadata": {},
   "outputs": [
    {
     "data": {
      "text/html": [
       "<div>\n",
       "<style scoped>\n",
       "    .dataframe tbody tr th:only-of-type {\n",
       "        vertical-align: middle;\n",
       "    }\n",
       "\n",
       "    .dataframe tbody tr th {\n",
       "        vertical-align: top;\n",
       "    }\n",
       "\n",
       "    .dataframe thead th {\n",
       "        text-align: right;\n",
       "    }\n",
       "</style>\n",
       "<table border=\"1\" class=\"dataframe\">\n",
       "  <thead>\n",
       "    <tr style=\"text-align: right;\">\n",
       "      <th></th>\n",
       "      <th>Year</th>\n",
       "      <th>Primary Type</th>\n",
       "    </tr>\n",
       "    <tr>\n",
       "      <th>Month</th>\n",
       "      <th></th>\n",
       "      <th></th>\n",
       "    </tr>\n",
       "  </thead>\n",
       "  <tbody>\n",
       "    <tr>\n",
       "      <th>June</th>\n",
       "      <td>2016</td>\n",
       "      <td>SEX OFFENSE</td>\n",
       "    </tr>\n",
       "    <tr>\n",
       "      <th>November</th>\n",
       "      <td>2016</td>\n",
       "      <td>ROBBERY</td>\n",
       "    </tr>\n",
       "    <tr>\n",
       "      <th>September</th>\n",
       "      <td>2017</td>\n",
       "      <td>DECEPTIVE PRACTICE</td>\n",
       "    </tr>\n",
       "    <tr>\n",
       "      <th>October</th>\n",
       "      <td>2017</td>\n",
       "      <td>CRIMINAL DAMAGE</td>\n",
       "    </tr>\n",
       "    <tr>\n",
       "      <th>October</th>\n",
       "      <td>2017</td>\n",
       "      <td>OTHER OFFENSE</td>\n",
       "    </tr>\n",
       "  </tbody>\n",
       "</table>\n",
       "</div>"
      ],
      "text/plain": [
       "           Year        Primary Type\n",
       "Month                              \n",
       "June       2016         SEX OFFENSE\n",
       "November   2016             ROBBERY\n",
       "September  2017  DECEPTIVE PRACTICE\n",
       "October    2017     CRIMINAL DAMAGE\n",
       "October    2017       OTHER OFFENSE"
      ]
     },
     "execution_count": 25,
     "metadata": {},
     "output_type": "execute_result"
    }
   ],
   "source": [
    "crime_freq.head()"
   ]
  },
  {
   "cell_type": "code",
   "execution_count": 26,
   "metadata": {},
   "outputs": [],
   "source": [
    "# Add new column Season which represents the four seasons(winter, spring, summer, autumn)\n",
    "crime_freq['Season']= 'NaN'\n",
    "# Seasonalities\n",
    "crime_freq.loc[['December', 'January', 'February'], ['Season']] = 'Dec-Jan-Feb' # Winter\n",
    "crime_freq.loc[['March','April','May'],['Season']] = 'Mar-Apr-May' # Spring\n",
    "crime_freq.loc[['June','July','August'],['Season']] = 'Jun-Jul-Aug' #Summer\n",
    "crime_freq.loc[['September','October','November'],['Season']] = 'Sep-Oct-Nov'#Autumn"
   ]
  },
  {
   "cell_type": "code",
   "execution_count": 27,
   "metadata": {},
   "outputs": [],
   "source": [
    "# Create multiple index with Year, Month and Season\n",
    "crime_freq = crime_freq.reset_index().set_index(['Year','Month','Season'])"
   ]
  },
  {
   "cell_type": "code",
   "execution_count": 28,
   "metadata": {},
   "outputs": [
    {
     "data": {
      "text/html": [
       "<div>\n",
       "<style scoped>\n",
       "    .dataframe tbody tr th:only-of-type {\n",
       "        vertical-align: middle;\n",
       "    }\n",
       "\n",
       "    .dataframe tbody tr th {\n",
       "        vertical-align: top;\n",
       "    }\n",
       "\n",
       "    .dataframe thead th {\n",
       "        text-align: right;\n",
       "    }\n",
       "</style>\n",
       "<table border=\"1\" class=\"dataframe\">\n",
       "  <thead>\n",
       "    <tr style=\"text-align: right;\">\n",
       "      <th></th>\n",
       "      <th></th>\n",
       "      <th></th>\n",
       "      <th>Primary Type</th>\n",
       "    </tr>\n",
       "    <tr>\n",
       "      <th>Year</th>\n",
       "      <th>Month</th>\n",
       "      <th>Season</th>\n",
       "      <th></th>\n",
       "    </tr>\n",
       "  </thead>\n",
       "  <tbody>\n",
       "    <tr>\n",
       "      <th rowspan=\"2\" valign=\"top\">2016</th>\n",
       "      <th>June</th>\n",
       "      <th>Jun-Jul-Aug</th>\n",
       "      <td>SEX OFFENSE</td>\n",
       "    </tr>\n",
       "    <tr>\n",
       "      <th>November</th>\n",
       "      <th>Sep-Oct-Nov</th>\n",
       "      <td>ROBBERY</td>\n",
       "    </tr>\n",
       "    <tr>\n",
       "      <th rowspan=\"3\" valign=\"top\">2017</th>\n",
       "      <th>September</th>\n",
       "      <th>Sep-Oct-Nov</th>\n",
       "      <td>DECEPTIVE PRACTICE</td>\n",
       "    </tr>\n",
       "    <tr>\n",
       "      <th rowspan=\"2\" valign=\"top\">October</th>\n",
       "      <th>Sep-Oct-Nov</th>\n",
       "      <td>CRIMINAL DAMAGE</td>\n",
       "    </tr>\n",
       "    <tr>\n",
       "      <th>Sep-Oct-Nov</th>\n",
       "      <td>OTHER OFFENSE</td>\n",
       "    </tr>\n",
       "  </tbody>\n",
       "</table>\n",
       "</div>"
      ],
      "text/plain": [
       "                                  Primary Type\n",
       "Year Month     Season                         \n",
       "2016 June      Jun-Jul-Aug         SEX OFFENSE\n",
       "     November  Sep-Oct-Nov             ROBBERY\n",
       "2017 September Sep-Oct-Nov  DECEPTIVE PRACTICE\n",
       "     October   Sep-Oct-Nov     CRIMINAL DAMAGE\n",
       "               Sep-Oct-Nov       OTHER OFFENSE"
      ]
     },
     "execution_count": 28,
     "metadata": {},
     "output_type": "execute_result"
    }
   ],
   "source": [
    "crime_freq.head()"
   ]
  },
  {
   "cell_type": "code",
   "execution_count": 29,
   "metadata": {},
   "outputs": [],
   "source": [
    "# Find the total number of crimes grouped by Year, Season and type. Return a dataframe with a new column with total crimes\n",
    "total_crimes = crime_freq.groupby(['Year','Season','Primary Type'])['Primary Type'].count().reset_index(name='Total')"
   ]
  },
  {
   "cell_type": "code",
   "execution_count": 30,
   "metadata": {},
   "outputs": [
    {
     "data": {
      "text/html": [
       "<div>\n",
       "<style scoped>\n",
       "    .dataframe tbody tr th:only-of-type {\n",
       "        vertical-align: middle;\n",
       "    }\n",
       "\n",
       "    .dataframe tbody tr th {\n",
       "        vertical-align: top;\n",
       "    }\n",
       "\n",
       "    .dataframe thead th {\n",
       "        text-align: right;\n",
       "    }\n",
       "</style>\n",
       "<table border=\"1\" class=\"dataframe\">\n",
       "  <thead>\n",
       "    <tr style=\"text-align: right;\">\n",
       "      <th></th>\n",
       "      <th>Year</th>\n",
       "      <th>Season</th>\n",
       "      <th>Primary Type</th>\n",
       "      <th>Total</th>\n",
       "    </tr>\n",
       "  </thead>\n",
       "  <tbody>\n",
       "    <tr>\n",
       "      <th>0</th>\n",
       "      <td>2016</td>\n",
       "      <td>Dec-Jan-Feb</td>\n",
       "      <td>ARSON</td>\n",
       "      <td>110</td>\n",
       "    </tr>\n",
       "    <tr>\n",
       "      <th>1</th>\n",
       "      <td>2016</td>\n",
       "      <td>Dec-Jan-Feb</td>\n",
       "      <td>ASSAULT</td>\n",
       "      <td>3726</td>\n",
       "    </tr>\n",
       "    <tr>\n",
       "      <th>2</th>\n",
       "      <td>2016</td>\n",
       "      <td>Dec-Jan-Feb</td>\n",
       "      <td>BATTERY</td>\n",
       "      <td>10670</td>\n",
       "    </tr>\n",
       "    <tr>\n",
       "      <th>3</th>\n",
       "      <td>2016</td>\n",
       "      <td>Dec-Jan-Feb</td>\n",
       "      <td>BURGLARY</td>\n",
       "      <td>3324</td>\n",
       "    </tr>\n",
       "    <tr>\n",
       "      <th>4</th>\n",
       "      <td>2016</td>\n",
       "      <td>Dec-Jan-Feb</td>\n",
       "      <td>CONCEALED CARRY LICENSE VIOLATION</td>\n",
       "      <td>9</td>\n",
       "    </tr>\n",
       "  </tbody>\n",
       "</table>\n",
       "</div>"
      ],
      "text/plain": [
       "   Year       Season                       Primary Type  Total\n",
       "0  2016  Dec-Jan-Feb                              ARSON    110\n",
       "1  2016  Dec-Jan-Feb                            ASSAULT   3726\n",
       "2  2016  Dec-Jan-Feb                            BATTERY  10670\n",
       "3  2016  Dec-Jan-Feb                           BURGLARY   3324\n",
       "4  2016  Dec-Jan-Feb  CONCEALED CARRY LICENSE VIOLATION      9"
      ]
     },
     "execution_count": 30,
     "metadata": {},
     "output_type": "execute_result"
    }
   ],
   "source": [
    "total_crimes.head()"
   ]
  },
  {
   "cell_type": "code",
   "execution_count": 31,
   "metadata": {},
   "outputs": [],
   "source": [
    "#Create multiindex dataframe\n",
    "multi_total_crimes = total_crimes.set_index(['Year','Primary Type', 'Season'])"
   ]
  },
  {
   "cell_type": "code",
   "execution_count": 32,
   "metadata": {},
   "outputs": [
    {
     "data": {
      "text/html": [
       "<div>\n",
       "<style scoped>\n",
       "    .dataframe tbody tr th:only-of-type {\n",
       "        vertical-align: middle;\n",
       "    }\n",
       "\n",
       "    .dataframe tbody tr th {\n",
       "        vertical-align: top;\n",
       "    }\n",
       "\n",
       "    .dataframe thead th {\n",
       "        text-align: right;\n",
       "    }\n",
       "</style>\n",
       "<table border=\"1\" class=\"dataframe\">\n",
       "  <thead>\n",
       "    <tr style=\"text-align: right;\">\n",
       "      <th></th>\n",
       "      <th></th>\n",
       "      <th></th>\n",
       "      <th>Total</th>\n",
       "    </tr>\n",
       "    <tr>\n",
       "      <th>Year</th>\n",
       "      <th>Primary Type</th>\n",
       "      <th>Season</th>\n",
       "      <th></th>\n",
       "    </tr>\n",
       "  </thead>\n",
       "  <tbody>\n",
       "    <tr>\n",
       "      <th rowspan=\"5\" valign=\"top\">2016</th>\n",
       "      <th>ARSON</th>\n",
       "      <th>Dec-Jan-Feb</th>\n",
       "      <td>110</td>\n",
       "    </tr>\n",
       "    <tr>\n",
       "      <th>ASSAULT</th>\n",
       "      <th>Dec-Jan-Feb</th>\n",
       "      <td>3726</td>\n",
       "    </tr>\n",
       "    <tr>\n",
       "      <th>BATTERY</th>\n",
       "      <th>Dec-Jan-Feb</th>\n",
       "      <td>10670</td>\n",
       "    </tr>\n",
       "    <tr>\n",
       "      <th>BURGLARY</th>\n",
       "      <th>Dec-Jan-Feb</th>\n",
       "      <td>3324</td>\n",
       "    </tr>\n",
       "    <tr>\n",
       "      <th>CONCEALED CARRY LICENSE VIOLATION</th>\n",
       "      <th>Dec-Jan-Feb</th>\n",
       "      <td>9</td>\n",
       "    </tr>\n",
       "  </tbody>\n",
       "</table>\n",
       "</div>"
      ],
      "text/plain": [
       "                                                    Total\n",
       "Year Primary Type                      Season            \n",
       "2016 ARSON                             Dec-Jan-Feb    110\n",
       "     ASSAULT                           Dec-Jan-Feb   3726\n",
       "     BATTERY                           Dec-Jan-Feb  10670\n",
       "     BURGLARY                          Dec-Jan-Feb   3324\n",
       "     CONCEALED CARRY LICENSE VIOLATION Dec-Jan-Feb      9"
      ]
     },
     "execution_count": 32,
     "metadata": {},
     "output_type": "execute_result"
    }
   ],
   "source": [
    "multi_total_crimes.head()"
   ]
  },
  {
   "cell_type": "code",
   "execution_count": 33,
   "metadata": {},
   "outputs": [],
   "source": [
    "# Filter observations of total crimes >=500 and sort values. Consider that observations under 500 crimes are more rare. We should\n",
    "# be able to examine these cases in a seperate analysis with different scope.\n",
    "multi_total_crimes = multi_total_crimes[multi_total_crimes['Total'] >=500].sort_values('Total')"
   ]
  },
  {
   "cell_type": "code",
   "execution_count": 34,
   "metadata": {},
   "outputs": [],
   "source": [
    "#multi_total_crimes.head()"
   ]
  },
  {
   "cell_type": "code",
   "execution_count": 35,
   "metadata": {},
   "outputs": [],
   "source": [
    "#Split into 3 dataframes based on year\n",
    "crime_2016 = multi_total_crimes[multi_total_crimes.index.get_level_values(0)=='2016']\n",
    "crime_2017 = multi_total_crimes[multi_total_crimes.index.get_level_values(0)=='2017']\n",
    "crime_2018 = multi_total_crimes[multi_total_crimes.index.get_level_values(0)=='2018']"
   ]
  },
  {
   "cell_type": "markdown",
   "metadata": {},
   "source": [
    "## i. 2016"
   ]
  },
  {
   "cell_type": "code",
   "execution_count": 36,
   "metadata": {},
   "outputs": [],
   "source": [
    "# Split seasons for 2016\n",
    "crime_2016_winter = crime_2016[crime_2016.index.get_level_values(2)=='Dec-Jan-Feb']\n",
    "crime_2016_spring = crime_2016[crime_2016.index.get_level_values(2)=='Mar-Apr-May']\n",
    "crime_2016_summer = crime_2016[crime_2016.index.get_level_values(2)=='Jun-Jul-Aug']\n",
    "crime_2016_autumn = crime_2016[crime_2016.index.get_level_values(2)=='Sep-Oct-Nov']"
   ]
  },
  {
   "cell_type": "code",
   "execution_count": 37,
   "metadata": {},
   "outputs": [
    {
     "data": {
      "text/plain": [
       "<matplotlib.legend.Legend at 0x53ac11e780>"
      ]
     },
     "execution_count": 37,
     "metadata": {},
     "output_type": "execute_result"
    },
    {
     "data": {
      "image/png": "[encoded data removed]",
      "text/plain": [
       "<Figure size 936x936 with 4 Axes>"
      ]
     },
     "metadata": {
      "needs_background": "light"
     },
     "output_type": "display_data"
    }
   ],
   "source": [
    "# Create a suplot for every season (winter,spring,summer,autumn ) in 2016\n",
    "fig, ax = plt.subplots(2,2,figsize = (13,13))\n",
    "\n",
    "# Set titles\n",
    "fig.suptitle('Number of top 13 Crimes in Chicago in 2016', fontsize = 16)\n",
    "ax[0,0].set_title('Number of top 13 Crimes in Chicago among the months Dec-Jan-Feb', fontsize = 10)\n",
    "ax[0,1].set_title('Number of top 13 Crimes in Chicago among the months Mar-Apr-May', fontsize = 10)\n",
    "ax[1,0].set_title('Number of top 13 Crimes in Chicago among the months Jun-Jul-Aug', fontsize = 10)\n",
    "ax[1,1].set_title('Number of top 13 Crimes in Chicago among the months Sep-Oct-Nov', fontsize = 10)\n",
    "ax[0,0].set_ylim(0,18000)\n",
    "ax[0,1].set_ylim(0,18000)\n",
    "ax[1,0].set_ylim(0,18000)\n",
    "ax[1,1].set_ylim(0,18000)\n",
    "# Plot\n",
    "crime_2016_winter.unstack(1).plot(kind = 'bar',ax=ax[0,0],width=1, linewidth = 4, rot=0,colormap=\"Spectral_r\",legend=False)\n",
    "crime_2016_spring.unstack(1).plot(kind = 'bar',ax=ax[0,1],width=1, linewidth = 4, rot=0,colormap=\"Spectral_r\",legend=False)\n",
    "crime_2016_summer.unstack(1).plot(kind = 'bar',ax=ax[1,0],width=1, linewidth = 4, rot=0,colormap=\"Spectral_r\",legend=False)\n",
    "crime_2016_autumn.unstack(1).plot(kind = 'bar',ax=ax[1,1],width=1, linewidth = 4, rot=0,colormap=\"Spectral_r\")\n",
    "#plt.legend(multi_total_crimes.index.get_level_values(1))\n",
    "plt.legend(bbox_to_anchor=(1.05, 1), loc=2, borderaxespad=0.)"
   ]
  },
  {
   "cell_type": "markdown",
   "metadata": {},
   "source": [
    "## ii. 2017"
   ]
  },
  {
   "cell_type": "code",
   "execution_count": 38,
   "metadata": {},
   "outputs": [],
   "source": [
    "#Split seasons for 2017\n",
    "crime_2017_winter = crime_2017[crime_2017.index.get_level_values(2)=='Dec-Jan-Feb']\n",
    "crime_2017_spring = crime_2017[crime_2017.index.get_level_values(2)=='Mar-Apr-May']\n",
    "crime_2017_summer = crime_2017[crime_2017.index.get_level_values(2)=='Jun-Jul-Aug']\n",
    "crime_2017_autumn = crime_2017[crime_2017.index.get_level_values(2)=='Sep-Oct-Nov']"
   ]
  },
  {
   "cell_type": "code",
   "execution_count": 39,
   "metadata": {},
   "outputs": [
    {
     "data": {
      "text/plain": [
       "<matplotlib.legend.Legend at 0x53aaaec828>"
      ]
     },
     "execution_count": 39,
     "metadata": {},
     "output_type": "execute_result"
    },
    {
     "data": {
      "image/png": "[encoded data removed]",
      "text/plain": [
       "<Figure size 936x936 with 4 Axes>"
      ]
     },
     "metadata": {
      "needs_background": "light"
     },
     "output_type": "display_data"
    }
   ],
   "source": [
    "# Create a suplot for every season (winter,spring,summer,autumn ) in 2017\n",
    "fig, ax = plt.subplots(2,2,figsize = (13,13))\n",
    "\n",
    "fig.suptitle('Number of top 13 Crimes in Chicago in 2017', fontsize = 16)\n",
    "ax[0,0].set_title('Number of top 13 Crimes in Chicago among the months Dec-Jan-Feb', fontsize = 10)\n",
    "ax[0,1].set_title('Number of top 13 Crimes in Chicago among the months Mar-Apr-May', fontsize = 10)\n",
    "ax[1,0].set_title('Number of top 13 Crimes in Chicago among the months Jun-Jul-Aug', fontsize = 10)\n",
    "ax[1,1].set_title('Number of top 13 Crimes in Chicago among the months Sep-Oct-Nov', fontsize = 10)\n",
    "ax[0,0].set_ylim(0,18000)\n",
    "ax[0,1].set_ylim(0,18000)\n",
    "ax[1,0].set_ylim(0,18000)\n",
    "ax[1,1].set_ylim(0,18000)\n",
    "crime_2017_winter.unstack(1).plot(kind = 'bar',ax=ax[0,0],width=1, linewidth = 4, rot=0,colormap=\"Spectral_r\",legend=False)\n",
    "crime_2017_spring.unstack(1).plot(kind = 'bar',ax=ax[0,1],width=1, linewidth = 4, rot=0,colormap=\"Spectral_r\",legend=False)\n",
    "crime_2017_summer.unstack(1).plot(kind = 'bar',ax=ax[1,0],width=1, linewidth = 4, rot=0,colormap=\"Spectral_r\",legend=False)\n",
    "crime_2017_autumn.unstack(1).plot(kind = 'bar',ax=ax[1,1],width=1, linewidth = 4, rot=0,colormap=\"Spectral_r\")\n",
    "#plt.legend(multi_total_crimes.index.get_level_values(1))\n",
    "plt.legend(bbox_to_anchor=(1.05, 1), loc=2, borderaxespad=0.)"
   ]
  },
  {
   "cell_type": "markdown",
   "metadata": {},
   "source": [
    "## iii. 2018"
   ]
  },
  {
   "cell_type": "code",
   "execution_count": 40,
   "metadata": {},
   "outputs": [],
   "source": [
    "#Split seasons for 2018\n",
    "crime_2018_winter = crime_2018[crime_2018.index.get_level_values(2)=='Dec-Jan-Feb']\n",
    "crime_2018_spring = crime_2018[crime_2018.index.get_level_values(2)=='Mar-Apr-May']\n",
    "crime_2018_summer = crime_2018[crime_2018.index.get_level_values(2)=='Jun-Jul-Aug']\n",
    "crime_2018_autumn = crime_2018[crime_2018.index.get_level_values(2)=='Sep-Oct-Nov']"
   ]
  },
  {
   "cell_type": "markdown",
   "metadata": {},
   "source": [
    "#### Run below cell again"
   ]
  },
  {
   "cell_type": "code",
   "execution_count": 42,
   "metadata": {},
   "outputs": [
    {
     "data": {
      "text/plain": [
       "<matplotlib.legend.Legend at 0x53a0d59f28>"
      ]
     },
     "execution_count": 42,
     "metadata": {},
     "output_type": "execute_result"
    },
    {
     "data": {
      "image/png": "[encoded data removed]",
      "text/plain": [
       "<Figure size 936x936 with 4 Axes>"
      ]
     },
     "metadata": {
      "needs_background": "light"
     },
     "output_type": "display_data"
    }
   ],
   "source": [
    "# Create a suplot for every season (winter,spring,summer,autumn ) in 2018\n",
    "fig, ax = plt.subplots(2,2,figsize = (13,13))\n",
    "\n",
    "#Set titles\n",
    "fig.suptitle('Number of top 13 Crimes in Chicago in 2018', fontsize = 16)\n",
    "ax[0,0].set_title('Number of top 13 Crimes in Chicago among the months Dec-Jan-Feb', fontsize = 10)\n",
    "ax[0,1].set_title('Number of top 13 Crimes in Chicago among the months Mar-Apr-May', fontsize = 10)\n",
    "ax[1,0].set_title('Number of top 13 Crimes in Chicago among the months Jun-Jul-Aug', fontsize = 10)\n",
    "ax[1,1].set_title('Number of top 13 Crimes in Chicago among the months Sep-Oct-Nov', fontsize = 10)\n",
    "ax[0,0].set_ylim(0,18000)\n",
    "ax[0,1].set_ylim(0,18000)\n",
    "ax[1,0].set_ylim(0,18000)\n",
    "ax[1,1].set_ylim(0,18000)\n",
    "\n",
    "crime_2018_winter.unstack(1).plot(kind = 'bar',ax=ax[0,0],width=1, linewidth = 4, rot=0,colormap=\"Spectral_r\",legend=False)\n",
    "crime_2018_spring.unstack(1).plot(kind = 'bar',ax=ax[0,1],width=1, linewidth = 4, rot=0,colormap=\"Spectral_r\",legend=False)\n",
    "crime_2018_summer.unstack(1).plot(kind = 'bar',ax=ax[1,0],width=1, linewidth = 4, rot=0,colormap=\"Spectral_r\",legend=False)\n",
    "crime_2018_autumn.unstack(1).plot(kind = 'bar',ax=ax[1,1],width=1, linewidth = 4, rot=0,colormap=\"Spectral_r\")\n",
    "plt.legend(bbox_to_anchor=(1.05, 1), loc=2, borderaxespad=0.)\n",
    "\n",
    "# Save figure to pdf file.\n",
    "#fig.savefig(r\"C:\\Users\\mstamouli\\Desktop\\Seasonality.pdf\", bbox_inches='tight')"
   ]
  },
  {
   "cell_type": "markdown",
   "metadata": {},
   "source": [
    "# Part II :Trend Analysis for intra day crimes"
   ]
  },
  {
   "cell_type": "markdown",
   "metadata": {},
   "source": [
    "### We are going to find the hours (during the day) that criminal activity happens most frequently."
   ]
  },
  {
   "cell_type": "code",
   "execution_count": 43,
   "metadata": {},
   "outputs": [],
   "source": [
    "# Select the hour and type of crime\n",
    "crime_hours = crime_data[['Hour','Primary Type']].set_index('Hour')"
   ]
  },
  {
   "cell_type": "markdown",
   "metadata": {},
   "source": [
    "#### Split the day into 6 periods so as to identify trends"
   ]
  },
  {
   "cell_type": "code",
   "execution_count": 44,
   "metadata": {},
   "outputs": [
    {
     "data": {
      "text/html": [
       "<div>\n",
       "<style scoped>\n",
       "    .dataframe tbody tr th:only-of-type {\n",
       "        vertical-align: middle;\n",
       "    }\n",
       "\n",
       "    .dataframe tbody tr th {\n",
       "        vertical-align: top;\n",
       "    }\n",
       "\n",
       "    .dataframe thead th {\n",
       "        text-align: right;\n",
       "    }\n",
       "</style>\n",
       "<table border=\"1\" class=\"dataframe\">\n",
       "  <thead>\n",
       "    <tr style=\"text-align: right;\">\n",
       "      <th></th>\n",
       "      <th>Primary Type</th>\n",
       "    </tr>\n",
       "    <tr>\n",
       "      <th>Hour</th>\n",
       "      <th></th>\n",
       "    </tr>\n",
       "  </thead>\n",
       "  <tbody>\n",
       "    <tr>\n",
       "      <th>1900-01-01 00:00:00</th>\n",
       "      <td>95256</td>\n",
       "    </tr>\n",
       "    <tr>\n",
       "      <th>1900-01-01 04:00:00</th>\n",
       "      <td>57466</td>\n",
       "    </tr>\n",
       "    <tr>\n",
       "      <th>1900-01-01 08:00:00</th>\n",
       "      <td>132240</td>\n",
       "    </tr>\n",
       "    <tr>\n",
       "      <th>1900-01-01 12:00:00</th>\n",
       "      <td>164995</td>\n",
       "    </tr>\n",
       "    <tr>\n",
       "      <th>1900-01-01 16:00:00</th>\n",
       "      <td>171601</td>\n",
       "    </tr>\n",
       "  </tbody>\n",
       "</table>\n",
       "</div>"
      ],
      "text/plain": [
       "                     Primary Type\n",
       "Hour                             \n",
       "1900-01-01 00:00:00         95256\n",
       "1900-01-01 04:00:00         57466\n",
       "1900-01-01 08:00:00        132240\n",
       "1900-01-01 12:00:00        164995\n",
       "1900-01-01 16:00:00        171601"
      ]
     },
     "execution_count": 44,
     "metadata": {},
     "output_type": "execute_result"
    }
   ],
   "source": [
    "# Split the into 6 periods (4 hours every period) \n",
    "freq = crime_hours.resample('4h').count()\n",
    "freq.head()"
   ]
  },
  {
   "cell_type": "code",
   "execution_count": 45,
   "metadata": {},
   "outputs": [],
   "source": [
    "# Create durations\n",
    "duration_list = ['12 AM to 4 AM','4 AM to 8 AM', '8 AM to 12 PM', '12 PM to 4 PM', '4 PM to 8 PM', '8 PM to 12 AM']"
   ]
  },
  {
   "cell_type": "code",
   "execution_count": 46,
   "metadata": {},
   "outputs": [],
   "source": [
    "freq.reset_index(inplace=True)\n",
    "# Convert datetime to string\n",
    "freq = freq.astype(str)"
   ]
  },
  {
   "cell_type": "code",
   "execution_count": 47,
   "metadata": {},
   "outputs": [
    {
     "data": {
      "text/plain": [
       "Hour            object\n",
       "Primary Type    object\n",
       "dtype: object"
      ]
     },
     "execution_count": 47,
     "metadata": {},
     "output_type": "execute_result"
    }
   ],
   "source": [
    "freq.dtypes"
   ]
  },
  {
   "cell_type": "code",
   "execution_count": 48,
   "metadata": {},
   "outputs": [],
   "source": [
    "# Create list with the datetime format\n",
    "datetime_list = freq['Hour'].tolist()"
   ]
  },
  {
   "cell_type": "code",
   "execution_count": 49,
   "metadata": {},
   "outputs": [],
   "source": [
    "# Create dictionary for mapping datetime format with period names\n",
    "dict_hours = dict(zip(datetime_list, duration_list))\n",
    "# Mapping\n",
    "freq = freq.set_index('Hour').rename(index = dict_hours)"
   ]
  },
  {
   "cell_type": "code",
   "execution_count": 50,
   "metadata": {},
   "outputs": [
    {
     "data": {
      "text/html": [
       "<div>\n",
       "<style scoped>\n",
       "    .dataframe tbody tr th:only-of-type {\n",
       "        vertical-align: middle;\n",
       "    }\n",
       "\n",
       "    .dataframe tbody tr th {\n",
       "        vertical-align: top;\n",
       "    }\n",
       "\n",
       "    .dataframe thead th {\n",
       "        text-align: right;\n",
       "    }\n",
       "</style>\n",
       "<table border=\"1\" class=\"dataframe\">\n",
       "  <thead>\n",
       "    <tr style=\"text-align: right;\">\n",
       "      <th></th>\n",
       "      <th>Primary Type</th>\n",
       "    </tr>\n",
       "    <tr>\n",
       "      <th>Hour</th>\n",
       "      <th></th>\n",
       "    </tr>\n",
       "  </thead>\n",
       "  <tbody>\n",
       "    <tr>\n",
       "      <th>12 AM to 4 AM</th>\n",
       "      <td>95256</td>\n",
       "    </tr>\n",
       "    <tr>\n",
       "      <th>4 AM to 8 AM</th>\n",
       "      <td>57466</td>\n",
       "    </tr>\n",
       "    <tr>\n",
       "      <th>8 AM to 12 PM</th>\n",
       "      <td>132240</td>\n",
       "    </tr>\n",
       "    <tr>\n",
       "      <th>12 PM to 4 PM</th>\n",
       "      <td>164995</td>\n",
       "    </tr>\n",
       "    <tr>\n",
       "      <th>4 PM to 8 PM</th>\n",
       "      <td>171601</td>\n",
       "    </tr>\n",
       "    <tr>\n",
       "      <th>8 PM to 12 AM</th>\n",
       "      <td>148250</td>\n",
       "    </tr>\n",
       "  </tbody>\n",
       "</table>\n",
       "</div>"
      ],
      "text/plain": [
       "              Primary Type\n",
       "Hour                      \n",
       "12 AM to 4 AM        95256\n",
       "4 AM to 8 AM         57466\n",
       "8 AM to 12 PM       132240\n",
       "12 PM to 4 PM       164995\n",
       "4 PM to 8 PM        171601\n",
       "8 PM to 12 AM       148250"
      ]
     },
     "execution_count": 50,
     "metadata": {},
     "output_type": "execute_result"
    }
   ],
   "source": [
    "freq"
   ]
  },
  {
   "cell_type": "code",
   "execution_count": 51,
   "metadata": {},
   "outputs": [],
   "source": [
    "freq.reset_index(inplace=True)\n"
   ]
  },
  {
   "cell_type": "code",
   "execution_count": 52,
   "metadata": {},
   "outputs": [],
   "source": [
    "# Convert again to int\n",
    "freq['Primary Type'] = freq['Primary Type'].astype(int)\n",
    "# Convert to categorical and order categories\n",
    "freq['Hour'] = pd.Categorical(freq['Hour'], categories = duration_list, ordered=True)"
   ]
  },
  {
   "cell_type": "markdown",
   "metadata": {},
   "source": [
    "### We observe from the barplot below that the most common hours of criminality during the day is between 12 pm - 8 pm "
   ]
  },
  {
   "cell_type": "code",
   "execution_count": 53,
   "metadata": {},
   "outputs": [
    {
     "data": {
      "text/plain": [
       "Text(0.5,0,'Period in the day')"
      ]
     },
     "execution_count": 53,
     "metadata": {},
     "output_type": "execute_result"
    },
    {
     "data": {
      "image/png": "[encoded data removed]",
      "text/plain": [
       "<Figure size 720x576 with 1 Axes>"
      ]
     },
     "metadata": {
      "needs_background": "light"
     },
     "output_type": "display_data"
    }
   ],
   "source": [
    "plt.figure(figsize=(10,8))\n",
    "sns.set(style=\"whitegrid\")\n",
    "sns.barplot(x = 'Hour', y = 'Primary Type', data=freq.sort_values(by='Primary Type'), palette = 'Blues')\n",
    "plt.title('Number of crimes in Chicago during the day', fontsize = 16)\n",
    "plt.ylabel('Number of Crimes', fontsize=12, style='italic')\n",
    "plt.xlabel('Period in the day', fontsize=12, style='italic')"
   ]
  },
  {
   "cell_type": "markdown",
   "metadata": {},
   "source": [
    "### We conclude that the most common crime is 'THEFT' and most common hours of this activity are in the 'AFTERNOON'. Considering that the rates of crimes increasing in the 'SUMMER', we could possibly say that in that season there is less protection from police officers or people are less careful about their property (like tourists). For these reason seems easier to commit some types of crimes (eg theft)"
   ]
  },
  {
   "cell_type": "markdown",
   "metadata": {},
   "source": [
    "# QUESTION 2: \n",
    "# PLOTTING HEATMAPS"
   ]
  },
  {
   "cell_type": "code",
   "execution_count": 54,
   "metadata": {},
   "outputs": [],
   "source": [
    "crime_freq_heat = crime_data[['Date', 'Primary Type']]"
   ]
  },
  {
   "cell_type": "code",
   "execution_count": 55,
   "metadata": {},
   "outputs": [],
   "source": [
    "months = crime_freq_heat['Date'].dt.strftime('%B').values"
   ]
  },
  {
   "cell_type": "code",
   "execution_count": 56,
   "metadata": {},
   "outputs": [],
   "source": [
    "crime_freq_heat.insert(loc = 1, column = 'Month', value= months)"
   ]
  },
  {
   "cell_type": "code",
   "execution_count": 57,
   "metadata": {},
   "outputs": [],
   "source": [
    "crime_freq_heat = crime_freq_heat.set_index(['Month']).groupby(['Month','Primary Type'])['Primary Type'].count().reset_index(name='Total')"
   ]
  },
  {
   "cell_type": "code",
   "execution_count": 58,
   "metadata": {},
   "outputs": [
    {
     "data": {
      "text/html": [
       "<div>\n",
       "<style scoped>\n",
       "    .dataframe tbody tr th:only-of-type {\n",
       "        vertical-align: middle;\n",
       "    }\n",
       "\n",
       "    .dataframe tbody tr th {\n",
       "        vertical-align: top;\n",
       "    }\n",
       "\n",
       "    .dataframe thead th {\n",
       "        text-align: right;\n",
       "    }\n",
       "</style>\n",
       "<table border=\"1\" class=\"dataframe\">\n",
       "  <thead>\n",
       "    <tr style=\"text-align: right;\">\n",
       "      <th></th>\n",
       "      <th>Month</th>\n",
       "      <th>Primary Type</th>\n",
       "      <th>Total</th>\n",
       "    </tr>\n",
       "  </thead>\n",
       "  <tbody>\n",
       "    <tr>\n",
       "      <th>0</th>\n",
       "      <td>April</td>\n",
       "      <td>ARSON</td>\n",
       "      <td>118</td>\n",
       "    </tr>\n",
       "    <tr>\n",
       "      <th>1</th>\n",
       "      <td>April</td>\n",
       "      <td>ASSAULT</td>\n",
       "      <td>4783</td>\n",
       "    </tr>\n",
       "    <tr>\n",
       "      <th>2</th>\n",
       "      <td>April</td>\n",
       "      <td>BATTERY</td>\n",
       "      <td>11928</td>\n",
       "    </tr>\n",
       "    <tr>\n",
       "      <th>3</th>\n",
       "      <td>April</td>\n",
       "      <td>BURGLARY</td>\n",
       "      <td>2856</td>\n",
       "    </tr>\n",
       "    <tr>\n",
       "      <th>4</th>\n",
       "      <td>April</td>\n",
       "      <td>CONCEALED CARRY LICENSE VIOLATION</td>\n",
       "      <td>18</td>\n",
       "    </tr>\n",
       "  </tbody>\n",
       "</table>\n",
       "</div>"
      ],
      "text/plain": [
       "   Month                       Primary Type  Total\n",
       "0  April                              ARSON    118\n",
       "1  April                            ASSAULT   4783\n",
       "2  April                            BATTERY  11928\n",
       "3  April                           BURGLARY   2856\n",
       "4  April  CONCEALED CARRY LICENSE VIOLATION     18"
      ]
     },
     "execution_count": 58,
     "metadata": {},
     "output_type": "execute_result"
    }
   ],
   "source": [
    "crime_freq_heat.head()"
   ]
  },
  {
   "cell_type": "code",
   "execution_count": 59,
   "metadata": {},
   "outputs": [],
   "source": [
    "# Ignore types of crimes with very few observations or inconsistent descriptions (like NON-CRIMINAL)\n",
    "crime_freq_heat = crime_freq_heat.set_index('Primary Type').drop(['HUMAN TRAFFICKING','OTHER NARCOTIC VIOLATION','PUBLIC INDECENCY','NON-CRIMINAL','NON - CRIMINAL','NON-CRIMINAL (SUBJECT SPECIFIED)'],axis='index')"
   ]
  },
  {
   "cell_type": "code",
   "execution_count": 60,
   "metadata": {},
   "outputs": [],
   "source": [
    "crime_freq_heat.reset_index(inplace=True)"
   ]
  },
  {
   "cell_type": "code",
   "execution_count": 61,
   "metadata": {},
   "outputs": [],
   "source": [
    "# Order months\n",
    "crime_freq_heat['Month'] = pd.Categorical(crime_freq_heat['Month'], categories = [\"January\",\"February\", \"March\",\"April\",\"May\", \"June\", \"July\",\n",
    "                                            \"August\", \"September\", \"October\", \"November\",\"December\"], ordered=True)"
   ]
  },
  {
   "cell_type": "code",
   "execution_count": 62,
   "metadata": {},
   "outputs": [],
   "source": [
    "# Order types of crimes based on frequency\n",
    "crime_freq_heat['Primary Type'] = pd.Categorical(crime_freq_heat['Primary Type'],ordered = True, categories = ['THEFT', 'BATTERY',\n",
    "        'CRIMINAL DAMAGE', 'ASSAULT',\n",
    "       'DECEPTIVE PRACTICE', 'OTHER OFFENSE', 'BURGLARY', 'NARCOTICS',\n",
    "       'ROBBERY', 'MOTOR VEHICLE THEFT', 'CRIMINAL TRESPASS',\n",
    "       'WEAPONS VIOLATION', 'OFFENSE INVOLVING CHILDREN',\n",
    "       'CRIM SEXUAL ASSAULT', 'PUBLIC PEACE VIOLATION',\n",
    "       'INTERFERENCE WITH PUBLIC OFFICER', 'SEX OFFENSE', 'PROSTITUTION',\n",
    "       'HOMICIDE', 'ARSON', 'LIQUOR LAW VIOLATION', 'GAMBLING',\n",
    "       'KIDNAPPING', 'STALKING', 'INTIMIDATION',\n",
    "       'CONCEALED CARRY LICENSE VIOLATION', 'OBSCENITY'])"
   ]
  },
  {
   "cell_type": "code",
   "execution_count": 63,
   "metadata": {},
   "outputs": [],
   "source": [
    "# Prepare dataframe for the heatmap\n",
    "crime_freq_heat2 = crime_freq_heat[['Month', 'Primary Type', 'Total']].pivot(\"Month\", \"Primary Type\", \"Total\")"
   ]
  },
  {
   "cell_type": "markdown",
   "metadata": {},
   "source": [
    "## From the below heatmap, our first impression has been confirmed. The lightest color in the Heatmap is August and the most ferquent crime category is 'Theft'. The month July is the next one."
   ]
  },
  {
   "cell_type": "code",
   "execution_count": 64,
   "metadata": {},
   "outputs": [
    {
     "data": {
      "text/plain": [
       "<matplotlib.axes._subplots.AxesSubplot at 0x53a0828240>"
      ]
     },
     "execution_count": 64,
     "metadata": {},
     "output_type": "execute_result"
    },
    {
     "data": {
      "image/png": "[encoded data removed]",
      "text/plain": [
       "<Figure size 1440x720 with 2 Axes>"
      ]
     },
     "metadata": {},
     "output_type": "display_data"
    }
   ],
   "source": [
    "plt.figure(figsize=(20,10))\n",
    "sns.heatmap(crime_freq_heat2)"
   ]
  },
  {
   "cell_type": "markdown",
   "metadata": {},
   "source": [
    "# QUESTION 3:\n",
    "# PLOTTING GEO DATA"
   ]
  },
  {
   "cell_type": "markdown",
   "metadata": {},
   "source": [
    "### Firstly, choose the columns that you need"
   ]
  },
  {
   "cell_type": "code",
   "execution_count": 65,
   "metadata": {},
   "outputs": [],
   "source": [
    "# Select category of crime, long & lat and corresponding district\n",
    "crime_loc = crime_data[['Primary Type', 'Latitude','Longitude','District']]"
   ]
  },
  {
   "cell_type": "code",
   "execution_count": 66,
   "metadata": {},
   "outputs": [
    {
     "data": {
      "text/html": [
       "<div>\n",
       "<style scoped>\n",
       "    .dataframe tbody tr th:only-of-type {\n",
       "        vertical-align: middle;\n",
       "    }\n",
       "\n",
       "    .dataframe tbody tr th {\n",
       "        vertical-align: top;\n",
       "    }\n",
       "\n",
       "    .dataframe thead th {\n",
       "        text-align: right;\n",
       "    }\n",
       "</style>\n",
       "<table border=\"1\" class=\"dataframe\">\n",
       "  <thead>\n",
       "    <tr style=\"text-align: right;\">\n",
       "      <th></th>\n",
       "      <th>Primary Type</th>\n",
       "      <th>Latitude</th>\n",
       "      <th>Longitude</th>\n",
       "      <th>District</th>\n",
       "    </tr>\n",
       "  </thead>\n",
       "  <tbody>\n",
       "    <tr>\n",
       "      <th>0</th>\n",
       "      <td>SEX OFFENSE</td>\n",
       "      <td>41.808541</td>\n",
       "      <td>-87.621195</td>\n",
       "      <td>2.0</td>\n",
       "    </tr>\n",
       "    <tr>\n",
       "      <th>1</th>\n",
       "      <td>ROBBERY</td>\n",
       "      <td>41.782357</td>\n",
       "      <td>-87.718948</td>\n",
       "      <td>8.0</td>\n",
       "    </tr>\n",
       "    <tr>\n",
       "      <th>2</th>\n",
       "      <td>DECEPTIVE PRACTICE</td>\n",
       "      <td>42.012293</td>\n",
       "      <td>-87.699714</td>\n",
       "      <td>24.0</td>\n",
       "    </tr>\n",
       "    <tr>\n",
       "      <th>3</th>\n",
       "      <td>CRIMINAL DAMAGE</td>\n",
       "      <td>41.918712</td>\n",
       "      <td>-87.765511</td>\n",
       "      <td>25.0</td>\n",
       "    </tr>\n",
       "    <tr>\n",
       "      <th>4</th>\n",
       "      <td>OTHER OFFENSE</td>\n",
       "      <td>41.814670</td>\n",
       "      <td>-87.690727</td>\n",
       "      <td>9.0</td>\n",
       "    </tr>\n",
       "  </tbody>\n",
       "</table>\n",
       "</div>"
      ],
      "text/plain": [
       "         Primary Type   Latitude  Longitude  District\n",
       "0         SEX OFFENSE  41.808541 -87.621195       2.0\n",
       "1             ROBBERY  41.782357 -87.718948       8.0\n",
       "2  DECEPTIVE PRACTICE  42.012293 -87.699714      24.0\n",
       "3     CRIMINAL DAMAGE  41.918712 -87.765511      25.0\n",
       "4       OTHER OFFENSE  41.814670 -87.690727       9.0"
      ]
     },
     "execution_count": 66,
     "metadata": {},
     "output_type": "execute_result"
    }
   ],
   "source": [
    "crime_loc.head()"
   ]
  },
  {
   "cell_type": "code",
   "execution_count": 67,
   "metadata": {},
   "outputs": [],
   "source": [
    "#districts = crime_loc['District'].value_counts()\n",
    "#districts"
   ]
  },
  {
   "cell_type": "markdown",
   "metadata": {},
   "source": [
    "## Find the top 5 dangerous districts for the crime type 'THEFT'."
   ]
  },
  {
   "cell_type": "code",
   "execution_count": 68,
   "metadata": {},
   "outputs": [],
   "source": [
    "theft_per_district = crime_loc.loc[crime_loc['Primary Type']=='THEFT'][['Primary Type','District']].groupby(['Primary Type','District'])['District'].count()"
   ]
  },
  {
   "cell_type": "code",
   "execution_count": 69,
   "metadata": {},
   "outputs": [
    {
     "data": {
      "text/plain": [
       "Float64Index([1.0, 18.0, 12.0, 19.0, 14.0], dtype='float64', name='District')"
      ]
     },
     "execution_count": 69,
     "metadata": {},
     "output_type": "execute_result"
    }
   ],
   "source": [
    "top_5_districts = theft_per_district.nlargest(5).index.get_level_values(1)\n",
    "top_5_districts"
   ]
  },
  {
   "cell_type": "markdown",
   "metadata": {},
   "source": [
    "#### Find the mean value of latitude and longitude for each district of the above list"
   ]
  },
  {
   "cell_type": "code",
   "execution_count": 70,
   "metadata": {},
   "outputs": [],
   "source": [
    "mean_lat_1 = crime_loc[(crime_loc['Primary Type']=='THEFT') & (crime_loc['District']==top_5_districts[0])][['Latitude','Longitude']].mean()[0]\n",
    "mean_lat_2 = crime_loc[(crime_loc['Primary Type']=='THEFT') & (crime_loc['District']==top_5_districts[1])][['Latitude','Longitude']].mean()[0]\n",
    "mean_lat_3 = crime_loc[(crime_loc['Primary Type']=='THEFT') & (crime_loc['District']==top_5_districts[2])][['Latitude','Longitude']].mean()[0]\n",
    "mean_lat_4 = crime_loc[(crime_loc['Primary Type']=='THEFT') & (crime_loc['District']==top_5_districts[3])][['Latitude','Longitude']].mean()[0]\n",
    "mean_lat_5 = crime_loc[(crime_loc['Primary Type']=='THEFT') & (crime_loc['District']==top_5_districts[4])][['Latitude','Longitude']].mean()[0]"
   ]
  },
  {
   "cell_type": "code",
   "execution_count": 71,
   "metadata": {},
   "outputs": [],
   "source": [
    "mean_long_1 = crime_loc[(crime_loc['Primary Type']=='THEFT') & (crime_loc['District']==top_5_districts[0])][['Latitude','Longitude']].mean()[1]\n",
    "mean_long_2 = crime_loc[(crime_loc['Primary Type']=='THEFT') & (crime_loc['District']==top_5_districts[1])][['Latitude','Longitude']].mean()[1]\n",
    "mean_long_3 = crime_loc[(crime_loc['Primary Type']=='THEFT') & (crime_loc['District']==top_5_districts[2])][['Latitude','Longitude']].mean()[1]\n",
    "mean_long_4 = crime_loc[(crime_loc['Primary Type']=='THEFT') & (crime_loc['District']==top_5_districts[3])][['Latitude','Longitude']].mean()[1]\n",
    "mean_long_5 = crime_loc[(crime_loc['Primary Type']=='THEFT') & (crime_loc['District']==top_5_districts[4])][['Latitude','Longitude']].mean()[1]"
   ]
  },
  {
   "cell_type": "markdown",
   "metadata": {},
   "source": [
    "#### Filter 5 dataframes with latitude, for the 5 districts"
   ]
  },
  {
   "cell_type": "code",
   "execution_count": 72,
   "metadata": {},
   "outputs": [],
   "source": [
    "lat_1 = crime_loc.loc[(crime_loc['Primary Type'] == 'THEFT') & (crime_loc['District']==top_5_districts[0]),['Latitude','District']]\n",
    "lat_2 = crime_loc.loc[(crime_loc['Primary Type'] == 'THEFT') & (crime_loc['District']==top_5_districts[1]),['Latitude','District']]\n",
    "lat_3 = crime_loc.loc[(crime_loc['Primary Type'] == 'THEFT') & (crime_loc['District']==top_5_districts[2]),['Latitude','District']]\n",
    "lat_4 = crime_loc.loc[(crime_loc['Primary Type'] == 'THEFT') & (crime_loc['District']==top_5_districts[3]),['Latitude','District']]\n",
    "lat_5 = crime_loc.loc[(crime_loc['Primary Type'] == 'THEFT') & (crime_loc['District']==top_5_districts[4]),['Latitude','District']]"
   ]
  },
  {
   "cell_type": "markdown",
   "metadata": {},
   "source": [
    "#### Filter 5 dataframes with longitude, for the 5 districts"
   ]
  },
  {
   "cell_type": "code",
   "execution_count": 73,
   "metadata": {},
   "outputs": [],
   "source": [
    "lon_1 = crime_loc.loc[(crime_loc['Primary Type'] == 'THEFT') & (crime_loc['District']==top_5_districts[0]),['Longitude','District']]\n",
    "lon_2 = crime_loc.loc[(crime_loc['Primary Type'] == 'THEFT') & (crime_loc['District']==top_5_districts[1]),['Longitude','District']]\n",
    "lon_3 = crime_loc.loc[(crime_loc['Primary Type'] == 'THEFT') & (crime_loc['District']==top_5_districts[2]),['Longitude','District']]\n",
    "lon_4 = crime_loc.loc[(crime_loc['Primary Type'] == 'THEFT') & (crime_loc['District']==top_5_districts[3]),['Longitude','District']]\n",
    "lon_5 = crime_loc.loc[(crime_loc['Primary Type'] == 'THEFT') & (crime_loc['District']==top_5_districts[4]),['Longitude','District']]"
   ]
  },
  {
   "cell_type": "markdown",
   "metadata": {},
   "source": [
    "#### Fill null values for latitude and longitude with above mean values"
   ]
  },
  {
   "cell_type": "code",
   "execution_count": 74,
   "metadata": {},
   "outputs": [],
   "source": [
    "lat_1.fillna(mean_lat_1,inplace=True)\n",
    "lat_2.fillna(mean_lat_2,inplace=True)\n",
    "lat_3.fillna(mean_lat_3,inplace=True)\n",
    "lat_4.fillna(mean_lat_4,inplace=True)\n",
    "lat_5.fillna(mean_lat_5,inplace=True)"
   ]
  },
  {
   "cell_type": "code",
   "execution_count": 75,
   "metadata": {},
   "outputs": [],
   "source": [
    "lon_1.fillna(mean_long_1,inplace=True)\n",
    "lon_2.fillna(mean_long_2,inplace=True)\n",
    "lon_3.fillna(mean_long_3,inplace=True)\n",
    "lon_4.fillna(mean_long_4,inplace=True)\n",
    "lon_5.fillna(mean_long_5,inplace=True)"
   ]
  },
  {
   "cell_type": "code",
   "execution_count": 76,
   "metadata": {},
   "outputs": [
    {
     "name": "stdout",
     "output_type": "stream",
     "text": [
      "The top 5 dangerous districts of crime type THEFT are: [ 1. 18. 12. 19. 14.]\n"
     ]
    }
   ],
   "source": [
    "print('{} {}'.format('The top 5 dangerous districts of crime type THEFT are:',top_5_districts.values))"
   ]
  },
  {
   "cell_type": "markdown",
   "metadata": {},
   "source": [
    "## Find the top 5 dangerous districts for all the crime types"
   ]
  },
  {
   "cell_type": "code",
   "execution_count": 77,
   "metadata": {},
   "outputs": [],
   "source": [
    "crime_per_district = crime_loc[['Primary Type','District']].groupby(['Primary Type','District'])['District'].count()"
   ]
  },
  {
   "cell_type": "code",
   "execution_count": 78,
   "metadata": {},
   "outputs": [
    {
     "data": {
      "text/plain": [
       "Primary Type  District\n",
       "ARSON         1.0         13\n",
       "              2.0         24\n",
       "              3.0         39\n",
       "              4.0         84\n",
       "              5.0         86\n",
       "Name: District, dtype: int64"
      ]
     },
     "execution_count": 78,
     "metadata": {},
     "output_type": "execute_result"
    }
   ],
   "source": [
    "crime_per_district.head()"
   ]
  },
  {
   "cell_type": "code",
   "execution_count": 79,
   "metadata": {},
   "outputs": [
    {
     "data": {
      "text/plain": [
       "Primary Type  District\n",
       "THEFT         1.0         20887\n",
       "              18.0        20242\n",
       "              12.0        12804\n",
       "              19.0        12765\n",
       "BATTERY       11.0        11079\n",
       "Name: District, dtype: int64"
      ]
     },
     "execution_count": 79,
     "metadata": {},
     "output_type": "execute_result"
    }
   ],
   "source": [
    "crime_per_district.sort_values(ascending=False).head()"
   ]
  },
  {
   "cell_type": "code",
   "execution_count": 80,
   "metadata": {},
   "outputs": [],
   "source": [
    "# Select the top 10 districts with the highest number of crimes\n",
    "top_15_districts = crime_per_district.nlargest(15).index.get_level_values(1).unique()"
   ]
  },
  {
   "cell_type": "code",
   "execution_count": 81,
   "metadata": {},
   "outputs": [],
   "source": [
    "#THEFT\n",
    "top_5_list = top_5_districts.values.tolist()\n",
    "#ALL CRIMES\n",
    "top_15_list = top_15_districts.values.tolist()"
   ]
  },
  {
   "cell_type": "code",
   "execution_count": 82,
   "metadata": {},
   "outputs": [
    {
     "data": {
      "text/plain": [
       "[3.0, 4.0, 6.0, 7.0, 8.0, 10.0, 11.0]"
      ]
     },
     "execution_count": 82,
     "metadata": {},
     "output_type": "execute_result"
    }
   ],
   "source": [
    "# Find the difference between the sets (districts that are not in the previous top 5)\n",
    "new_top = list(set(top_15_list) - set(top_5_list))\n",
    "new_top"
   ]
  },
  {
   "cell_type": "code",
   "execution_count": 83,
   "metadata": {},
   "outputs": [
    {
     "data": {
      "text/plain": [
       "Latitude     1351\n",
       "Longitude    1351\n",
       "dtype: int64"
      ]
     },
     "execution_count": 83,
     "metadata": {},
     "output_type": "execute_result"
    }
   ],
   "source": [
    "# Identify the number of missing values\n",
    "crime_loc.set_index('District').loc[[3.0, 4.0, 6.0, 7.0, 8.0, 10.0, 11.0]][['Latitude','Longitude']].isnull().sum()"
   ]
  },
  {
   "cell_type": "code",
   "execution_count": 84,
   "metadata": {},
   "outputs": [],
   "source": [
    "# Find the mean value of latitude and longitude for each district of the above list"
   ]
  },
  {
   "cell_type": "code",
   "execution_count": 85,
   "metadata": {},
   "outputs": [
    {
     "data": {
      "text/plain": [
       "Latitude     41.771171\n",
       "Longitude   -87.596616\n",
       "dtype: float64"
      ]
     },
     "execution_count": 85,
     "metadata": {},
     "output_type": "execute_result"
    }
   ],
   "source": [
    "crime_loc[crime_loc['District']==new_top[0]][['Latitude','Longitude']].mean()"
   ]
  },
  {
   "cell_type": "code",
   "execution_count": 86,
   "metadata": {},
   "outputs": [],
   "source": [
    "mean_lat_6 = crime_loc[crime_loc['District']==new_top[0]][['Latitude','Longitude']].mean()[0]\n",
    "mean_lat_7 = crime_loc[crime_loc['District']==new_top[1]][['Latitude','Longitude']].mean()[0]\n",
    "mean_lat_8 = crime_loc[crime_loc['District']==new_top[2]][['Latitude','Longitude']].mean()[0]\n",
    "mean_lat_9 = crime_loc[crime_loc['District']==new_top[3]][['Latitude','Longitude']].mean()[0]\n",
    "mean_lat_10 = crime_loc[crime_loc['District']==new_top[4]][['Latitude','Longitude']].mean()[0]"
   ]
  },
  {
   "cell_type": "code",
   "execution_count": 87,
   "metadata": {},
   "outputs": [],
   "source": [
    "mean_long_6 = crime_loc[crime_loc['District']==new_top[0]][['Latitude','Longitude']].mean()[1]\n",
    "mean_long_7 = crime_loc[crime_loc['District']==new_top[1]][['Latitude','Longitude']].mean()[1]\n",
    "mean_long_8 = crime_loc[crime_loc['District']==new_top[2]][['Latitude','Longitude']].mean()[1]\n",
    "mean_long_9 = crime_loc[crime_loc['District']==new_top[3]][['Latitude','Longitude']].mean()[1]\n",
    "mean_long_10 = crime_loc[crime_loc['District']==new_top[4]][['Latitude','Longitude']].mean()[1]"
   ]
  },
  {
   "cell_type": "code",
   "execution_count": 88,
   "metadata": {},
   "outputs": [],
   "source": [
    "lat_6 = crime_loc.loc[crime_loc['District']==new_top[0],['Latitude','District']]\n",
    "lat_7 = crime_loc.loc[crime_loc['District']==new_top[1],['Latitude','District']]\n",
    "lat_8 = crime_loc.loc[crime_loc['District']==new_top[2],['Latitude','District']]\n",
    "lat_9 = crime_loc.loc[crime_loc['District']==new_top[3],['Latitude','District']]\n",
    "lat_10 = crime_loc.loc[crime_loc['District']==new_top[4],['Latitude','District']]"
   ]
  },
  {
   "cell_type": "code",
   "execution_count": 89,
   "metadata": {},
   "outputs": [],
   "source": [
    "lon_6 = crime_loc.loc[crime_loc['District']==new_top[0],['Latitude','District']]\n",
    "lon_7 = crime_loc.loc[crime_loc['District']==new_top[1],['Latitude','District']]\n",
    "lon_8 = crime_loc.loc[crime_loc['District']==new_top[2],['Latitude','District']]\n",
    "lon_9 = crime_loc.loc[crime_loc['District']==new_top[3],['Latitude','District']]\n",
    "lon_10 = crime_loc.loc[crime_loc['District']==new_top[4],['Latitude','District']]"
   ]
  },
  {
   "cell_type": "code",
   "execution_count": 90,
   "metadata": {},
   "outputs": [],
   "source": [
    "lat_6.fillna(mean_lat_6,inplace=True)\n",
    "lat_7.fillna(mean_lat_7,inplace=True)\n",
    "lat_8.fillna(mean_lat_8,inplace=True)\n",
    "lat_9.fillna(mean_lat_9,inplace=True)\n",
    "lat_10.fillna(mean_lat_10,inplace=True)"
   ]
  },
  {
   "cell_type": "code",
   "execution_count": 91,
   "metadata": {},
   "outputs": [],
   "source": [
    "lon_6.fillna(mean_long_6,inplace=True)\n",
    "lon_7.fillna(mean_long_7,inplace=True)\n",
    "lon_8.fillna(mean_long_8,inplace=True)\n",
    "lon_9.fillna(mean_long_9,inplace=True)\n",
    "lon_10.fillna(mean_long_10,inplace=True)"
   ]
  },
  {
   "cell_type": "markdown",
   "metadata": {},
   "source": [
    "### Create a map showing the top 5 districts"
   ]
  },
  {
   "cell_type": "code",
   "execution_count": 92,
   "metadata": {},
   "outputs": [],
   "source": [
    "m = folium.Map(location=[41.8835, -87.627877], zoom_start = 12)"
   ]
  },
  {
   "cell_type": "code",
   "execution_count": 93,
   "metadata": {},
   "outputs": [
    {
     "data": {
      "text/plain": [
       "<folium.vector_layers.Circle at 0x539f12aa90>"
      ]
     },
     "execution_count": 93,
     "metadata": {},
     "output_type": "execute_result"
    }
   ],
   "source": [
    "# District #1\n",
    "folium.Circle(\n",
    "    radius=500,\n",
    "    location=[mean_lat_1, mean_long_1],\n",
    "    popup='The Waterfront',\n",
    "    color='crimson',\n",
    "    fill=True,\n",
    ").add_to(m)\n",
    "\n",
    "# District # 18\n",
    "folium.Circle(\n",
    "    radius=500,\n",
    "    location=[mean_lat_2, mean_long_2],\n",
    "    popup='The Waterfront',\n",
    "    color='crimson',\n",
    "    fill=True,\n",
    ").add_to(m)\n",
    "\n",
    "# District # 12\n",
    "folium.Circle(\n",
    "    radius=500,\n",
    "    location=[mean_lat_3, mean_long_3],\n",
    "    popup='The Waterfront',\n",
    "    color='crimson',\n",
    "    fill=True,\n",
    ").add_to(m)\n",
    "\n",
    "\n",
    "# District # 19\n",
    "folium.Circle(\n",
    "    radius=500,\n",
    "    location=[mean_lat_4, mean_long_4],\n",
    "    popup='The Waterfront',\n",
    "    color='crimson',\n",
    "    fill=True,\n",
    ").add_to(m)\n",
    "\n",
    "# District # 14\n",
    "folium.Circle(\n",
    "    radius=500,\n",
    "    location=[mean_lat_5, mean_long_5],\n",
    "    popup='The Waterfront',\n",
    "    color='crimson',\n",
    "    fill=True,\n",
    ").add_to(m)\n",
    "\n",
    "folium.Circle(\n",
    "    radius=500,\n",
    "    location=[mean_lat_6, mean_long_6],\n",
    "    popup='The Waterfront',\n",
    "    color='blue',\n",
    "    fill=False,\n",
    ").add_to(m)\n",
    "\n",
    "\n",
    "# District\n",
    "folium.Circle(\n",
    "    radius=500,\n",
    "    location=[mean_lat_7, mean_long_7],\n",
    "    popup='The Waterfront',\n",
    "    color='crimson',\n",
    "    fill=False,\n",
    ").add_to(m)\n",
    "\n",
    "\n",
    "# District\n",
    "folium.Circle(\n",
    "    radius=500,\n",
    "    location=[mean_lat_8, mean_long_8],\n",
    "    popup='The Waterfront',\n",
    "    color='crimson',\n",
    "    fill=False,\n",
    ").add_to(m)\n",
    "\n",
    "\n",
    "# District\n",
    "folium.Circle(\n",
    "    radius=50,\n",
    "    location=[mean_lat_9, mean_long_9],\n",
    "    popup='The Waterfront',\n",
    "    color='crimson',\n",
    "    fill=False,\n",
    ").add_to(m)\n",
    "\n",
    "#District\n",
    "folium.Circle(\n",
    "    radius=500,\n",
    "    location=[mean_lat_10, mean_long_10],\n",
    "    popup='The Waterfront',\n",
    "    color='crimson',\n",
    "    fill=False,\n",
    ").add_to(m)"
   ]
  },
  {
   "cell_type": "code",
   "execution_count": 94,
   "metadata": {},
   "outputs": [
    {
     "data": {
      "text/html": [
       "<div style=\"width:100%;\"><div style=\"position:relative;width:100%;height:0;padding-bottom:60%;\"><iframe src=\"data:text/html;charset=utf-8;base64,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\" style=\"position:absolute;width:100%;height:100%;left:0;top:0;border:none !important;\" allowfullscreen webkitallowfullscreen mozallowfullscreen></iframe></div></div>"
      ],
      "text/plain": [
       "<folium.folium.Map at 0x539f0f2b70>"
      ]
     },
     "execution_count": 94,
     "metadata": {},
     "output_type": "execute_result"
    }
   ],
   "source": [
    "m"
   ]
  },
  {
   "cell_type": "code",
   "execution_count": 95,
   "metadata": {},
   "outputs": [],
   "source": [
    "#sys.path.append(\"C:\\\\Users\\\\mstamouli\\\\AppData\\\\Local\\\\Continuum\\\\anaconda3\\\\lib\\\\site-packages\\\\paretochart__init__.py\")"
   ]
  },
  {
   "cell_type": "code",
   "execution_count": 96,
   "metadata": {},
   "outputs": [],
   "source": [
    "crime_distr = crime_data[['Primary Type','District']]"
   ]
  },
  {
   "cell_type": "code",
   "execution_count": 97,
   "metadata": {},
   "outputs": [],
   "source": [
    "paretoo = crime_distr.groupby(['District'])['Primary Type'].count().sort_values().to_frame().rename(columns={'Primary Type':'Sum'})"
   ]
  },
  {
   "cell_type": "code",
   "execution_count": 98,
   "metadata": {},
   "outputs": [
    {
     "data": {
      "text/plain": [
       "(<Figure size 720x360 with 2 Axes>,\n",
       " <matplotlib.axes._subplots.AxesSubplot at 0x539f0f2278>,\n",
       " <matplotlib.axes._subplots.AxesSubplot at 0x539f124898>)"
      ]
     },
     "execution_count": 98,
     "metadata": {},
     "output_type": "execute_result"
    },
    {
     "data": {
      "image/png": "[encoded data removed]",
      "text/plain": [
       "<Figure size 720x360 with 2 Axes>"
      ]
     },
     "metadata": {},
     "output_type": "display_data"
    }
   ],
   "source": [
    "fig, ax = plt.subplots(figsize = (10,5))\n",
    "\n",
    "pareto(paretoo['Sum'],labels=paretoo.index.values)"
   ]
  },
  {
   "cell_type": "code",
   "execution_count": null,
   "metadata": {},
   "outputs": [],
   "source": []
  }
 ],
 "metadata": {
  "kernelspec": {
   "display_name": "Python 3",
   "language": "python",
   "name": "python3"
  },
  "language_info": {
   "codemirror_mode": {
    "name": "ipython",
    "version": 3
   },
   "file_extension": ".py",
   "mimetype": "text/x-python",
   "name": "python",
   "nbconvert_exporter": "python",
   "pygments_lexer": "ipython3",
   "version": "3.7.0"
  }
 },
 "nbformat": 4,
 "nbformat_minor": 2
}
